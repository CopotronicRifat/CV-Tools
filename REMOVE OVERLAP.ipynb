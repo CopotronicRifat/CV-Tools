{
 "cells": [
  {
   "cell_type": "code",
   "execution_count": 1,
   "metadata": {},
   "outputs": [],
   "source": [
    "filen = []\n",
    "x = []\n",
    "y = []\n",
    "wh = []"
   ]
  },
  {
   "cell_type": "code",
   "execution_count": 2,
   "metadata": {},
   "outputs": [],
   "source": [
    "with open(\"D:\\RESEARCH DOCUMENTS\\EMBEDDING-NJIT\\IMAGE\\EMBED.txt\", \"r\") as filestream:\n",
    "    for line in filestream:\n",
    "        currentline = line.split(\",\")\n",
    "        filen.append(currentline[0])\n",
    "        x.append(int(currentline[1]))\n",
    "        y.append(int(currentline[2]))"
   ]
  },
  {
   "cell_type": "code",
   "execution_count": 7,
   "metadata": {},
   "outputs": [
    {
     "name": "stdout",
     "output_type": "stream",
     "text": [
      "0\n"
     ]
    }
   ],
   "source": [
    "stop = False\n",
    "while stop != True:\n",
    "    overlap_count = 0\n",
    "    for i in range(len(x)):\n",
    "        for j in range(i):\n",
    "            if (i!=j and abs(x[i]-x[j])<600 and abs(y[i]-y[j])<600):\n",
    "                x[j] = x[j] + abs(x[i]-x[j])\n",
    "                y[j] = y[j] - abs(y[i]-y[j])\n",
    "                overlap_count = overlap_count + 1\n",
    "    print(overlap_count)\n",
    "    if overlap_count == 0:\n",
    "        stop = True\n"
   ]
  },
  {
   "cell_type": "code",
   "execution_count": null,
   "metadata": {},
   "outputs": [],
   "source": []
  }
 ],
 "metadata": {
  "kernelspec": {
   "display_name": "Python 3",
   "language": "python",
   "name": "python3"
  },
  "language_info": {
   "codemirror_mode": {
    "name": "ipython",
    "version": 3
   },
   "file_extension": ".py",
   "mimetype": "text/x-python",
   "name": "python",
   "nbconvert_exporter": "python",
   "pygments_lexer": "ipython3",
   "version": "3.8.5"
  }
 },
 "nbformat": 4,
 "nbformat_minor": 4
}
